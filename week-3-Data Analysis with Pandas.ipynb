{
 "cells": [
  {
   "cell_type": "markdown",
   "metadata": {},
   "source": [
    "# Data Analysis with Pandas"
   ]
  },
  {
   "cell_type": "markdown",
   "metadata": {},
   "source": [
    "## Import and use Pandas"
   ]
  },
  {
   "cell_type": "code",
   "execution_count": 1,
   "metadata": {},
   "outputs": [
    {
     "name": "stdout",
     "output_type": "stream",
     "text": [
      "0    1\n",
      "1    2\n",
      "2    3\n",
      "3    4\n",
      "dtype: int64\n",
      "   Name  Age    Address\n",
      "0   Ram   20  Kathmandu\n",
      "1  Hari   23   Lalitpur\n"
     ]
    }
   ],
   "source": [
    "import pandas as pd\n",
    "\n",
    "# create new series\n",
    "number_series = pd.Series([1,2,3,4])\n",
    "print(number_series)\n",
    "\n",
    "# create new Data Frame\n",
    "user_data = pd.DataFrame({\n",
    "    \"Name\":[\"Ram\",\"Hari\"],\n",
    "    \"Age\": [20,23],\n",
    "    \"Address\":[\"Kathmandu\",\"Lalitpur\"]\n",
    "})\n",
    "print(user_data)"
   ]
  },
  {
   "cell_type": "markdown",
   "metadata": {},
   "source": [
    "## Read data  from CSV, Excel and JSON file"
   ]
  },
  {
   "cell_type": "code",
   "execution_count": 2,
   "metadata": {},
   "outputs": [
    {
     "name": "stdout",
     "output_type": "stream",
     "text": [
      "   id        name  class  mark  gender\n",
      "0   1    John Deo   Four    75  female\n",
      "1   2    Max Ruin  Three    85    male\n",
      "2   3      Arnold  Three    55    male\n",
      "3   4  Krish Star   Four    60  female\n",
      "4   5   John Mike   Four    60  female\n",
      "   id        name  class  mark  gender\n",
      "0   1    John Deo   Four    75  female\n",
      "1   2    Max Ruin  Three    85    male\n",
      "2   3      Arnold  Three    55    male\n",
      "3   4  Krish Star   Four    60  female\n",
      "4   5   John Mike   Four    60  female\n",
      "   id        name  class  mark  gender\n",
      "0   1    John Deo   Four    75  female\n",
      "1   2    Max Ruin  Three    85    male\n",
      "2   3      Arnold  Three    55    male\n",
      "3   4  Krish Star   Four    60  female\n",
      "4   5   John Mike   Four    60  female\n"
     ]
    }
   ],
   "source": [
    "# read data from csv\n",
    "student_csv_data = pd.read_csv('data/student.csv')\n",
    "print(student_csv_data.head())\n",
    "# read data from csv file\n",
    "student_excel_data = pd.read_excel('data/student.xlsx')\n",
    "print(student_excel_data.head())\n",
    "# read data from json\n",
    "student_json_data = pd.read_json('data/student.json')\n",
    "print(student_excel_data.head())"
   ]
  },
  {
   "cell_type": "markdown",
   "metadata": {},
   "source": [
    "## Save Pandas Dataframe to csv, excel and JSON file"
   ]
  },
  {
   "cell_type": "code",
   "execution_count": 3,
   "metadata": {},
   "outputs": [],
   "source": [
    "# create new Data Frame\n",
    "user_data = pd.DataFrame({\n",
    "    \"Name\":[\"Ram\",\"Hari\"],\n",
    "    \"Age\": [20,23],\n",
    "    \"Address\":[\"Kathmandu\",\"Lalitpur\"]\n",
    "})\n",
    "\n",
    "user_data.to_csv('data/user_data.csv')\n",
    "user_data.to_excel('data/user_data.xlsx')\n",
    "user_data.to_json('data/user_data.json')"
   ]
  },
  {
   "cell_type": "markdown",
   "metadata": {},
   "source": [
    "## Basic Data Exploration"
   ]
  },
  {
   "cell_type": "markdown",
   "metadata": {},
   "source": [
    "### Data Inspection"
   ]
  },
  {
   "cell_type": "code",
   "execution_count": null,
   "metadata": {},
   "outputs": [
    {
     "data": {
      "text/html": [
       "<div>\n",
       "<style scoped>\n",
       "    .dataframe tbody tr th:only-of-type {\n",
       "        vertical-align: middle;\n",
       "    }\n",
       "\n",
       "    .dataframe tbody tr th {\n",
       "        vertical-align: top;\n",
       "    }\n",
       "\n",
       "    .dataframe thead th {\n",
       "        text-align: right;\n",
       "    }\n",
       "</style>\n",
       "<table border=\"1\" class=\"dataframe\">\n",
       "  <thead>\n",
       "    <tr style=\"text-align: right;\">\n",
       "      <th></th>\n",
       "      <th>Age</th>\n",
       "    </tr>\n",
       "  </thead>\n",
       "  <tbody>\n",
       "    <tr>\n",
       "      <th>count</th>\n",
       "      <td>2.00000</td>\n",
       "    </tr>\n",
       "    <tr>\n",
       "      <th>mean</th>\n",
       "      <td>21.50000</td>\n",
       "    </tr>\n",
       "    <tr>\n",
       "      <th>std</th>\n",
       "      <td>2.12132</td>\n",
       "    </tr>\n",
       "    <tr>\n",
       "      <th>min</th>\n",
       "      <td>20.00000</td>\n",
       "    </tr>\n",
       "    <tr>\n",
       "      <th>25%</th>\n",
       "      <td>20.75000</td>\n",
       "    </tr>\n",
       "    <tr>\n",
       "      <th>50%</th>\n",
       "      <td>21.50000</td>\n",
       "    </tr>\n",
       "    <tr>\n",
       "      <th>75%</th>\n",
       "      <td>22.25000</td>\n",
       "    </tr>\n",
       "    <tr>\n",
       "      <th>max</th>\n",
       "      <td>23.00000</td>\n",
       "    </tr>\n",
       "  </tbody>\n",
       "</table>\n",
       "</div>"
      ],
      "text/plain": [
       "            Age\n",
       "count   2.00000\n",
       "mean   21.50000\n",
       "std     2.12132\n",
       "min    20.00000\n",
       "25%    20.75000\n",
       "50%    21.50000\n",
       "75%    22.25000\n",
       "max    23.00000"
      ]
     },
     "execution_count": 5,
     "metadata": {},
     "output_type": "execute_result"
    }
   ],
   "source": [
    "user_data.head()\n",
    "user_data.tail()\n",
    "user_data.info()\n",
    "user_data.describe()\n",
    "user_data.shape"
   ]
  },
  {
   "cell_type": "markdown",
   "metadata": {},
   "source": [
    "### Handle Missing Data"
   ]
  },
  {
   "cell_type": "code",
   "execution_count": 9,
   "metadata": {},
   "outputs": [
    {
     "data": {
      "text/plain": [
       "0     Ram\n",
       "1    Hari\n",
       "Name: Name, dtype: object"
      ]
     },
     "execution_count": 9,
     "metadata": {},
     "output_type": "execute_result"
    }
   ],
   "source": [
    "# axis, 0=row, 1=column\n",
    "user_data.dropna(axis=0,how='any',subset='Name',inplace=True) # axis=0 default drop rows with NaN  \n",
    "user_data.drop_duplicates(subset='Name',keep='first',inplace=True) # # Drop duplicates based on the 'Name' column\n",
    "user_data.fillna(1)\n",
    "user_data['Name'].fillna('Hari') # ony fill empty value of Name column"
   ]
  },
  {
   "cell_type": "markdown",
   "metadata": {},
   "source": [
    "# Indexing in Pandas\n",
    "- ##### Basic Indexing\n",
    "- ##### Label-based Indexing (.loc[])\n",
    "- ##### Integer-Label-based Indexing (.iloc[])\n",
    "- ##### Single Value Access (.at[], .iat[])"
   ]
  },
  {
   "cell_type": "markdown",
   "metadata": {},
   "source": [
    "## Basic Indexing"
   ]
  },
  {
   "cell_type": "code",
   "execution_count": 16,
   "metadata": {},
   "outputs": [
    {
     "name": "stdout",
     "output_type": "stream",
     "text": [
      "0    1\n",
      "1    2\n",
      "2    3\n",
      "3    4\n",
      "Name: A, dtype: int64\n",
      "   A  B\n",
      "0  1  5\n",
      "1  2  6\n",
      "2  3  7\n",
      "3  4  8\n",
      "<class 'pandas.core.frame.DataFrame'>\n",
      "   A  B  C\n",
      "1  2  6  y\n",
      "2  3  7  z\n"
     ]
    }
   ],
   "source": [
    "import pandas as pd\n",
    "\n",
    "data = {\n",
    "    'A': [1, 2, 3, 4],\n",
    "    'B': [5, 6, 7, 8],\n",
    "    'C': ['x', 'y', 'z', 'w']\n",
    "}\n",
    "df = pd.DataFrame(data)\n",
    "\n",
    "# Basic indexing\n",
    "print(df['A'])          # Single column as a Series\n",
    "print(df[['A', 'B']])   # Multiple columns as a DataFrame\n",
    "\n",
    "# Slicing rows\n",
    "print(type(df[:1])) # only first row (dataframe)\n",
    "print(df[1:3])          # Rows from index 1 to 2 (dataframe)\n"
   ]
  },
  {
   "cell_type": "markdown",
   "metadata": {},
   "source": [
    "## Label-based Indexing (.loc[])\n",
    "- .loc[] is used for selecting rows and columns by labels\n",
    "- We can use single labels, lists of labels, or slices of labels"
   ]
  },
  {
   "cell_type": "code",
   "execution_count": 23,
   "metadata": {},
   "outputs": [
    {
     "name": "stdout",
     "output_type": "stream",
     "text": [
      "A    2\n",
      "B    6\n",
      "C    y\n",
      "Name: 1, dtype: object\n",
      "   A  B  C\n",
      "0  1  5  x\n",
      "1  2  6  y\n",
      "2  3  7  z\n",
      "   A  B  C\n",
      "0  1  5  x\n",
      "1  2  6  y\n",
      "2  3  7  z\n",
      "   A  C\n",
      "0  1  x\n",
      "2  3  z\n"
     ]
    }
   ],
   "source": [
    "# Selecting rows based on label\n",
    "# print(df)\n",
    "print(df.loc[1])                    # Row with label 1 (index) labels can be string, date etc\n",
    "print(df.loc[0:2])                  # Rows with labels 0 to 2\n",
    "\n",
    "# # Selecting specific rows and columns\n",
    "print(df.loc[0:2, 'A':'C'])         # Rows 0 to 2, columns A to B\n",
    "print(df.loc[[0, 2], ['A', 'C']])   # Rows 0 and 2, columns A and C\n"
   ]
  },
  {
   "cell_type": "markdown",
   "metadata": {},
   "source": [
    "<!--  -->"
   ]
  },
  {
   "cell_type": "markdown",
   "metadata": {},
   "source": [
    "## Integer-location Based Indexing\n",
    "- .iloc[] is used for selecting rows and columns by integer index positions\n",
    "- Similar to .loc[], we can use single integers, lists of integers, or slices"
   ]
  },
  {
   "cell_type": "code",
   "execution_count": 24,
   "metadata": {},
   "outputs": [
    {
     "name": "stdout",
     "output_type": "stream",
     "text": [
      "A    2\n",
      "B    6\n",
      "C    y\n",
      "Name: 1, dtype: object\n",
      "   A  B  C\n",
      "0  1  5  x\n",
      "1  2  6  y\n",
      "2  3  7  z\n",
      "   A  B\n",
      "0  1  5\n",
      "1  2  6\n",
      "   A  C\n",
      "0  1  x\n",
      "2  3  z\n"
     ]
    }
   ],
   "source": [
    "# Selecting rows based on index positions\n",
    "print(df.iloc[1])                   # Second row (index 1)\n",
    "print(df.iloc[0:3])                 # Rows at index positions 0 to 2\n",
    "\n",
    "# Selecting specific rows and columns\n",
    "print(df.iloc[0:2, 0:2])            # Rows 0 to 1, columns 0 to 1\n",
    "print(df.iloc[[0, 2], [0, 2]])      # Rows 0 and 2, columns 0 and 2\n"
   ]
  },
  {
   "cell_type": "markdown",
   "metadata": {},
   "source": [
    "## Single Value Access (.at[] and .iat[])\n",
    "- .at[] is used for accessing a single scalar value by label.\n",
    "- .iat[] is for accessing by index position."
   ]
  },
  {
   "cell_type": "code",
   "execution_count": 25,
   "metadata": {},
   "outputs": [
    {
     "name": "stdout",
     "output_type": "stream",
     "text": [
      "6\n",
      "6\n"
     ]
    }
   ],
   "source": [
    "# Using .at[] to access single value by label\n",
    "print(df.at[1, 'B'])                # Value in row 1, column 'B'\n",
    "\n",
    "# Using .iat[] to access single value by position\n",
    "print(df.iat[1, 1])                 # Value in row 1, column 1\n"
   ]
  },
  {
   "cell_type": "markdown",
   "metadata": {},
   "source": [
    "## Manipulating Index"
   ]
  },
  {
   "cell_type": "markdown",
   "metadata": {},
   "source": [
    "## Summary Functions and Maps"
   ]
  },
  {
   "cell_type": "markdown",
   "metadata": {},
   "source": [
    "## Grouping and Sorting"
   ]
  },
  {
   "cell_type": "markdown",
   "metadata": {},
   "source": [
    "## Data Types and Missing Values"
   ]
  },
  {
   "cell_type": "markdown",
   "metadata": {},
   "source": [
    "## Renaming and Combining"
   ]
  }
 ],
 "metadata": {
  "kernelspec": {
   "display_name": "base",
   "language": "python",
   "name": "python3"
  },
  "language_info": {
   "codemirror_mode": {
    "name": "ipython",
    "version": 3
   },
   "file_extension": ".py",
   "mimetype": "text/x-python",
   "name": "python",
   "nbconvert_exporter": "python",
   "pygments_lexer": "ipython3",
   "version": "3.12.4"
  }
 },
 "nbformat": 4,
 "nbformat_minor": 2
}
